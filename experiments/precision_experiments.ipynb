{
 "cells": [
  {
   "cell_type": "markdown",
   "metadata": {},
   "source": [
    "EM size vs number of points\n",
    "==========================="
   ]
  },
  {
   "cell_type": "code",
   "execution_count": null,
   "metadata": {},
   "outputs": [],
   "source": [
    "import os\n",
    "import pandas as pd\n",
    "import numpy as np\n",
    "from pathlib import Path\n",
    "\n",
    "import config\n",
    "#from experiments import *"
   ]
  },
  {
   "cell_type": "code",
   "execution_count": null,
   "metadata": {},
   "outputs": [],
   "source": [
    "# IMPORTANT: set the following pahts and the JAVA_HOME environment variable\n",
    "\n",
    "config.prj_path = Path(\"../\").resolve()\n",
    "\n",
    "config.exp_folder = f\"{config.prj_path}/experiments/\"\n",
    "config.log_folder = f\"{config.exp_folder}/logs/\"\n",
    "config.res_folder = f\"{config.exp_folder}/results/\"\n",
    "config.model_folder = f\"{config.exp_folder}/models/\"\n",
    "config.jarfile=f\"{config.prj_path}/target/experiments.jar\"\n",
    "\n",
    "os.environ['JAVA_HOME'] = \"/Library/Java/JavaVirtualMachines/openjdk-12.0.1.jdk/Contents/Home\"\n",
    "\n",
    "rebuild = True"
   ]
  },
  {
   "cell_type": "code",
   "execution_count": null,
   "metadata": {},
   "outputs": [],
   "source": [
    "# Set the project path as the working directory\n",
    "if os.getcwd() != config.prj_path: os.chdir(config.prj_path)"
   ]
  },
  {
   "cell_type": "code",
   "execution_count": null,
   "metadata": {},
   "outputs": [],
   "source": [
    "# Rebuild the package if required\n",
    "if rebuild:\n",
    "    output = !mvn clean package | grep BUILD\\ SUCCESS | wc -l \n",
    "if int(output[0])>0: print(\"Build success\") \n",
    "else: print(\"error\")"
   ]
  },
  {
   "cell_type": "markdown",
   "metadata": {},
   "source": [
    "Note that all the cells below are disabled, just change the `if` condition in the desiered block of experiments "
   ]
  },
  {
   "cell_type": "code",
   "execution_count": null,
   "metadata": {},
   "outputs": [],
   "source": [
    "import config\n",
    "import os\n",
    "import socket\n",
    "import subprocess\n",
    "import pandas as pd\n",
    "import io\n",
    "from contextlib import redirect_stdout\n",
    "import itertools\n",
    "import warnings\n",
    "from datetime import datetime\n",
    "import time\n",
    "import timeout_decorator\n",
    "import numpy as np\n",
    "import matplotlib.pyplot as plt\n",
    "\n",
    "\n",
    "def print_project():\n",
    "    print(config.prj_path)\n",
    "\n",
    "\n",
    "\n",
    "def strdate(): return datetime.today().strftime('%Y-%m-%d-%H-%M-%S')\n",
    "\n",
    "\n",
    "\n",
    "#@timeout_decorator.timeout(8*1*60)\n",
    "def run_java(jarfile, javafile):\n",
    "    cmd=f\"java -cp {jarfile} {javafile}\"\n",
    "    if config.disable_java: cmd= \"echo []\"\n",
    "    print(cmd)\n",
    "    result = subprocess.run(cmd, universal_newlines = True, shell=True,stdout = subprocess.PIPE)\n",
    "    print(result.stdout)\n",
    "    return result\n",
    "\n",
    "\n",
    "def run(model, numberPoints, numberEMiter=100, samples=2000, filter=True):\n",
    "\n",
    "    #--numberPoints 20 --numberEMiter 10 --samples 2000 --model ./models/scm2.uai\n",
    "    # -N 20 -n 10 -s 2000 -m ./models/poly4_12181.uai\n",
    "    f = \"-f\" if(filter) else \"\"\n",
    "    javafile = f\"{config.exp_folder}/RunExperiments.java {f} -N {numberPoints} -n {numberEMiter}  -s {samples} -m {config.model_folder}/{model}\"\n",
    "    try:\n",
    "        lines = run_java(config.jarfile, javafile).stdout.splitlines()\n",
    "        j,k = [i for i in range(len(lines)) if lines[i] in [\"<output>\", \"</output>\"]]\n",
    "        output = eval(\"\".join([lines[i] for i in list(range(j+1, k))]))\n",
    "    except:\n",
    "        output = {[]}\n",
    "    return output\n"
   ]
  },
  {
   "cell_type": "code",
   "execution_count": null,
   "metadata": {},
   "outputs": [],
   "source": [
    "def run_experiments(f, args, fargs=None, verbose=False, lenght_dep_vars = None, non_evaluable=[]):\n",
    "\n",
    "\n",
    "    print(\"=========\")\n",
    "    print(args)\n",
    "    print(\"=========\")\n",
    "    \n",
    "    outkeys = [\"output\"]\n",
    " \n",
    "    result = None\n",
    "    log_file = f\"{config.log_folder}{strdate()}_{f.__name__}.txt\"\n",
    "\n",
    "    data = pd.DataFrame(list(itertools.product(*list(args.values()))), columns = args.keys())\n",
    "\n",
    "    fargs = fargs or {}\n",
    "    for k,v in fargs.items():\n",
    "        data[k]=data.apply(v, axis=1)\n",
    "\n",
    "\n",
    "    non_evaluable = non_evaluable or []\n",
    "\n",
    "    lenght_dep_vars = lenght_dep_vars or [\"N\"]\n",
    "\n",
    "    def is_evaluable(args):\n",
    "        current = {k:v for (k,v) in args.items() if k not in lenght_dep_vars}\n",
    "        previous = [{k:v for (k,v) in a.items() if k not in lenght_dep_vars} for a in non_evaluable]\n",
    "\n",
    "        print(f\"current: {current}\")\n",
    "        print(f\"previous: {previous}\")\n",
    "\n",
    "\n",
    "        return not current in previous\n",
    "\n",
    "    def single_experiment(argsv):\n",
    "        if is_evaluable(argsv):\n",
    "            outvals = f(**argsv)\n",
    "            if outvals == [{}]:\n",
    "                non_evaluable.append(argsv)\n",
    "                print(f\"setting as not evaluable: {argsv}\")\n",
    "        else:\n",
    "            outvals=[None]\n",
    "        return outvals\n",
    "\n",
    "\n",
    "    for argsv in data.to_dict(orient=\"row\"):\n",
    "\n",
    "        strio = io.StringIO()\n",
    "        print(strdate())\n",
    "        with open(log_file, 'a+') as logger:\n",
    "            if verbose == False:\n",
    "                with redirect_stdout(strio):\n",
    "                    print(strdate())\n",
    "                    outvals = single_experiment(argsv)\n",
    "            else:\n",
    "                outvals = single_experiment(argsv)\n",
    "\n",
    "            logger.write(strio.getvalue())\n",
    "\n",
    "\n",
    "        r = pd.DataFrame([{**argsv, ** v} for v in outvals])\n",
    "        if result is None:\n",
    "            result= r\n",
    "        else:\n",
    "            result = pd.concat([result, r], ignore_index=True)\n",
    "        print(\"\\n\\n\")\n",
    "\n",
    "    return result\n",
    "\n",
    "def get_args(**kwargs): return kwargs"
   ]
  },
  {
   "cell_type": "code",
   "execution_count": null,
   "metadata": {},
   "outputs": [],
   "source": [
    "label = \"tree4\"\n",
    "files = [f for f in os.listdir(config.model_folder) if f.startswith(label)]\n",
    "args = dict(model=files, numberPoints = [20])\n",
    "results = run_experiments(run, args)\n",
    "\n",
    "res_file = f\"{config.res_folder}{strdate()}_{label}.csv\"\n",
    "results.to_csv(res_file)"
   ]
  },
  {
   "cell_type": "code",
   "execution_count": null,
   "metadata": {},
   "outputs": [],
   "source": [
    "label = \"poly4\"\n",
    "files = [f for f in os.listdir(config.model_folder) if f.startswith(label)]\n",
    "args = dict(model=files, numberPoints = [20])\n",
    "results = run_experiments(run, args)\n",
    "\n",
    "res_file = f\"{config.res_folder}{strdate()}_{label}.csv\"\n",
    "results.to_csv(res_file)"
   ]
  },
  {
   "cell_type": "code",
   "execution_count": null,
   "metadata": {},
   "outputs": [],
   "source": [
    "label = \"tree6\"\n",
    "files = [f for f in os.listdir(config.model_folder) if f.startswith(label)]\n",
    "args = dict(model=files, numberPoints = [20])\n",
    "results = run_experiments(run, args)\n",
    "\n",
    "res_file = f\"{config.res_folder}{strdate()}_{label}.csv\"\n",
    "results.to_csv(res_file)\n",
    "print(res_file)"
   ]
  },
  {
   "cell_type": "code",
   "execution_count": null,
   "metadata": {},
   "outputs": [],
   "source": [
    "label = \"poly6\"\n",
    "files = [f for f in os.listdir(config.model_folder) if f.startswith(label)]\n",
    "args = dict(model=files, numberPoints = [20])\n",
    "results = run_experiments(run, args)\n",
    "\n",
    "res_file = f\"{config.res_folder}{strdate()}_{label}.csv\"\n",
    "results.to_csv(res_file)\n",
    "print(res_file)"
   ]
  },
  {
   "cell_type": "code",
   "execution_count": null,
   "metadata": {},
   "outputs": [],
   "source": [
    "label = \"tree10\"\n",
    "files = [f for f in os.listdir(config.model_folder) if f.startswith(label)]\n",
    "args = dict(model=files, numberPoints = [20])\n",
    "results = run_experiments(run, args)\n",
    "\n",
    "res_file = f\"{config.res_folder}{strdate()}_{label}.csv\"\n",
    "results.to_csv(res_file)\n",
    "print(res_file)"
   ]
  },
  {
   "cell_type": "code",
   "execution_count": null,
   "metadata": {},
   "outputs": [],
   "source": [
    "label = \"poly10\"\n",
    "files = [f for f in os.listdir(config.model_folder) if f.startswith(label)]\n",
    "args = dict(model=files, numberPoints = [20])\n",
    "results = run_experiments(run, args)\n",
    "\n",
    "res_file = f\"{config.res_folder}{strdate()}_{label}.csv\"\n",
    "results.to_csv(res_file)\n",
    "print(res_file)"
   ]
  }
 ],
 "metadata": {
  "kernelspec": {
   "display_name": "Python 3",
   "language": "python",
   "name": "python3"
  },
  "language_info": {
   "codemirror_mode": {
    "name": "ipython",
    "version": 3
   },
   "file_extension": ".py",
   "mimetype": "text/x-python",
   "name": "python",
   "nbconvert_exporter": "python",
   "pygments_lexer": "ipython3",
   "version": "3.6.8"
  }
 },
 "nbformat": 4,
 "nbformat_minor": 4
}
