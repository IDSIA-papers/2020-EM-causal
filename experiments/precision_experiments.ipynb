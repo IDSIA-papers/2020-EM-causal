{
 "cells": [
  {
   "cell_type": "markdown",
   "metadata": {},
   "source": [
    "EM size vs number of points\n",
    "==========================="
   ]
  },
  {
   "cell_type": "code",
   "execution_count": 2,
   "metadata": {},
   "outputs": [],
   "source": [
    "import os\n",
    "import pandas as pd\n",
    "import numpy as np\n",
    "from pathlib import Path\n",
    "\n",
    "import config\n",
    "#from experiments import *"
   ]
  },
  {
   "cell_type": "code",
   "execution_count": 3,
   "metadata": {},
   "outputs": [],
   "source": [
    "# IMPORTANT: set the following pahts and the JAVA_HOME environment variable\n",
    "\n",
    "config.prj_path = Path(\"../\").resolve()\n",
    "\n",
    "config.exp_folder = f\"{config.prj_path}/experiments/\"\n",
    "config.log_folder = f\"{config.exp_folder}/logs/\"\n",
    "config.res_folder = f\"{config.exp_folder}/results/\"\n",
    "config.model_folder = f\"{config.exp_folder}/models/\"\n",
    "config.jarfile=f\"{config.prj_path}/target/experiments.jar\"\n",
    "\n",
    "os.environ['JAVA_HOME'] = \"/Library/Java/JavaVirtualMachines/openjdk-12.0.1.jdk/Contents/Home\"\n",
    "\n",
    "rebuild = True"
   ]
  },
  {
   "cell_type": "code",
   "execution_count": 4,
   "metadata": {},
   "outputs": [],
   "source": [
    "# Set the project path as the working directory\n",
    "if os.getcwd() != config.prj_path: os.chdir(config.prj_path)"
   ]
  },
  {
   "cell_type": "code",
   "execution_count": 15,
   "metadata": {},
   "outputs": [
    {
     "name": "stdout",
     "output_type": "stream",
     "text": [
      "Build success\n"
     ]
    }
   ],
   "source": [
    "# Rebuild the package if required\n",
    "if rebuild:\n",
    "    output = !mvn clean package | grep BUILD\\ SUCCESS | wc -l \n",
    "if int(output[0])>0: print(\"Build success\") \n",
    "else: print(\"error\")"
   ]
  },
  {
   "cell_type": "markdown",
   "metadata": {},
   "source": [
    "Note that all the cells below are disabled, just change the `if` condition in the desiered block of experiments "
   ]
  },
  {
   "cell_type": "code",
   "execution_count": 93,
   "metadata": {},
   "outputs": [],
   "source": [
    "import config\n",
    "import os\n",
    "import socket\n",
    "import subprocess\n",
    "import pandas as pd\n",
    "import io\n",
    "from contextlib import redirect_stdout\n",
    "import itertools\n",
    "import warnings\n",
    "from datetime import datetime\n",
    "import time\n",
    "import timeout_decorator\n",
    "import numpy as np\n",
    "import matplotlib.pyplot as plt\n",
    "\n",
    "\n",
    "def print_project():\n",
    "    print(config.prj_path)\n",
    "\n",
    "\n",
    "\n",
    "def strdate(): return datetime.today().strftime('%Y-%m-%d-%H-%M-%S')\n",
    "\n",
    "\n",
    "\n",
    "@timeout_decorator.timeout(7*1*60)\n",
    "def run_java(jarfile, javafile):\n",
    "    cmd=f\"java -cp {jarfile} {javafile}\"\n",
    "    if config.disable_java: cmd= \"echo []\"\n",
    "    print(cmd)\n",
    "    result = subprocess.run(cmd, universal_newlines = True, shell=True,stdout = subprocess.PIPE)\n",
    "    print(result.stdout)\n",
    "    return result\n",
    "\n",
    "\n",
    "def run(model, numberPoints, numberEMiter=15, samples=2000):\n",
    "\n",
    "    #--numberPoints 20 --numberEMiter 10 --samples 2000 --model ./models/scm2.uai\n",
    "    # -N 20 -n 10 -s 2000 -m ./models/poly4_12181.uai\n",
    "    javafile = f\"{config.exp_folder}/RunExperiments.java -N {numberPoints} -n {numberEMiter}  -s {samples} -m {config.model_folder}/{model}\"\n",
    "    try:\n",
    "        lines = run_java(config.jarfile, javafile).stdout.splitlines()\n",
    "        j,k = [i for i in range(len(lines)) if lines[i] in [\"<output>\", \"</output>\"]]\n",
    "        output = eval(\"\".join([lines[i] for i in list(range(j+1, k))]))\n",
    "    except:\n",
    "        output = {[]}\n",
    "    return output\n"
   ]
  },
  {
   "cell_type": "code",
   "execution_count": 94,
   "metadata": {},
   "outputs": [
    {
     "name": "stdout",
     "output_type": "stream",
     "text": [
      "java -cp /Users/rcabanas/GoogleDrive/IDSIA/causality/dev/idsia-papers/2020-EM-causal/target/experiments.jar /Users/rcabanas/GoogleDrive/IDSIA/causality/dev/idsia-papers/2020-EM-causal/experiments//RunExperiments.java -N 5 -n 15  -s 2000 -m /Users/rcabanas/GoogleDrive/IDSIA/causality/dev/idsia-papers/2020-EM-causal/experiments//models//poly4_12181.uai\n",
      "\n",
      "0 iterations .........\n",
      "10 iterations ....\n",
      "[P([6]) [0.24629316937383625, 0.006132544125294398, 0.4420742865008664, 0.24382926829268672, 0.06167073170731627], P([5]) [0.24244713530504383, 0.06665184312044503, 0.008133158638761658, 0.4004010215745073, 0.28236684136124224], P([4]) [0.4307093101551249, 0.06959000000593642, 0.45550240859061636, 0.021360903938913857, 0.022837377309408467], P([3, 6]) [1.0, 0.0, 1.0, 0.0, 1.0, 0.0, 0.0, 1.0, 0.0, 1.0], P([0, 2, 3, 4]) [0.0, 1.0, 1.0, 0.0, 1.0, 1.0, 0.0, 0.0, 0.0, 1.0, 1.0, 0.0, 1.0, 1.0, 0.0, 0.0, 0.0, 1.0, 1.0, 0.0, 1.0, 0.0, 0.0, 1.0, 1.0, 0.0, 0.0, 1.0, 0.0, 1.0, 1.0, 0.0, 1.0, 1.0, 0.0, 0.0, 1.0, 0.0, 0.0, 1.0], P([1, 5]) [0.0, 1.0, 0.0, 1.0, 1.0, 0.0, 0.0, 1.0, 1.0, 0.0], P([0, 1, 4]) [0.0, 1.0, 1.0, 0.0, 1.0, 0.0, 1.0, 0.0, 1.0, 0.0, 1.0, 0.0, 0.0, 1.0, 0.0, 1.0, 0.0, 1.0, 1.0, 0.0]]\n",
      "\n",
      "P([2] | [])\n",
      "\t[0.8390320476219654, 0.16096795237803463]\n",
      "\t[0.8390320476219654, 0.16096795237803463]\n",
      "\n",
      "0 iterations .........\n",
      "10 iterations ....\n",
      "[P([6]) [0.01038402518197953, 0.1154995081644779, 0.5686164666535424, 0.039399122134251334, 0.266100877865749], P([5]) [0.5698930608365091, 0.09779230038022288, 0.01523137405505939, 0.041814638783269964, 0.2752686259449386], P([4]) [0.4323103401308515, 0.054340043354514145, 0.4692255563131707, 0.021350579248680886, 0.02277348095278285], P([3, 6]) [1.0, 0.0, 1.0, 0.0, 1.0, 0.0, 0.0, 1.0, 0.0, 1.0], P([0, 2, 3, 4]) [0.0, 1.0, 1.0, 0.0, 1.0, 1.0, 0.0, 0.0, 0.0, 1.0, 1.0, 0.0, 1.0, 1.0, 0.0, 0.0, 0.0, 1.0, 1.0, 0.0, 1.0, 0.0, 0.0, 1.0, 1.0, 0.0, 0.0, 1.0, 0.0, 1.0, 1.0, 0.0, 1.0, 1.0, 0.0, 0.0, 1.0, 0.0, 0.0, 1.0], P([1, 5]) [0.0, 1.0, 0.0, 1.0, 1.0, 0.0, 0.0, 1.0, 1.0, 0.0], P([0, 1, 4]) [0.0, 1.0, 1.0, 0.0, 1.0, 0.0, 1.0, 0.0, 1.0, 0.0, 1.0, 0.0, 0.0, 1.0, 0.0, 1.0, 0.0, 1.0, 1.0, 0.0]]\n",
      "\n",
      "P([2] | [])\n",
      "\t[0.8348663168270424, 0.16513368317295785]\n",
      "\t[0.8348663168270424, 0.16513368317295785]\n",
      "\n",
      "0 iterations .........\n",
      "10 iterations ....\n",
      "[P([6]) [0.6495373505976078, 0.025594123505976077, 0.019368525896414517, 0.0425956254788474, 0.2629043745211542], P([5]) [0.15934431818181202, 0.5361855681818264, 0.17717685077519216, 0.013970113636364625, 0.11332314922480481], P([4]) [0.44337597543808954, 0.4772367094141439, 0.03570844800862442, 0.02128226919547332, 0.022396597943668925], P([3, 6]) [1.0, 0.0, 1.0, 0.0, 1.0, 0.0, 0.0, 1.0, 0.0, 1.0], P([0, 2, 3, 4]) [0.0, 1.0, 1.0, 0.0, 1.0, 1.0, 0.0, 0.0, 0.0, 1.0, 1.0, 0.0, 1.0, 1.0, 0.0, 0.0, 0.0, 1.0, 1.0, 0.0, 1.0, 0.0, 0.0, 1.0, 1.0, 0.0, 0.0, 1.0, 0.0, 1.0, 1.0, 0.0, 1.0, 1.0, 0.0, 0.0, 1.0, 0.0, 0.0, 1.0], P([1, 5]) [0.0, 1.0, 0.0, 1.0, 1.0, 0.0, 0.0, 1.0, 1.0, 0.0], P([0, 1, 4]) [0.0, 1.0, 1.0, 0.0, 1.0, 0.0, 1.0, 0.0, 1.0, 0.0, 1.0, 0.0, 0.0, 1.0, 0.0, 1.0, 0.0, 1.0, 1.0, 0.0]]\n",
      "\n",
      "P([2] | [])\n",
      "\t[0.967468372505318, 0.0325316274946819]\n",
      "\t[0.967468372505318, 0.0325316274946819]\n",
      "\n",
      "0 iterations .........\n",
      "10 iterations ....\n",
      "[P([6]) [0.29856936707286436, 0.11552258766476399, 0.2804080452623737, 0.020798340143002962, 0.2847016598569949], P([5]) [0.021259711822727855, 0.686113336833096, 0.008489661041500826, 0.0021269513441826184, 0.2820103389584927], P([4]) [0.4427797226031183, 0.45169600314279373, 0.06182375076452709, 0.021285819621647994, 0.022414703867912774], P([3, 6]) [1.0, 0.0, 1.0, 0.0, 1.0, 0.0, 0.0, 1.0, 0.0, 1.0], P([0, 2, 3, 4]) [0.0, 1.0, 1.0, 0.0, 1.0, 1.0, 0.0, 0.0, 0.0, 1.0, 1.0, 0.0, 1.0, 1.0, 0.0, 0.0, 0.0, 1.0, 1.0, 0.0, 1.0, 0.0, 0.0, 1.0, 1.0, 0.0, 0.0, 1.0, 0.0, 1.0, 1.0, 0.0, 1.0, 1.0, 0.0, 0.0, 1.0, 0.0, 0.0, 1.0], P([1, 5]) [0.0, 1.0, 0.0, 1.0, 1.0, 0.0, 0.0, 1.0, 1.0, 0.0], P([0, 1, 4]) [0.0, 1.0, 1.0, 0.0, 1.0, 0.0, 1.0, 0.0, 1.0, 0.0, 1.0, 0.0, 0.0, 1.0, 0.0, 1.0, 0.0, 1.0, 1.0, 0.0]]\n",
      "\n",
      "P([2] | [])\n",
      "\t[0.9594821503825549, 0.04051784961744478]\n",
      "\t[0.9594821503825549, 0.04051784961744478]\n",
      "\n",
      "0 iterations .........\n",
      "10 iterations ....\n",
      "[P([6]) [0.4428101506835761, 0.24630959421270654, 0.0053802551037115546, 0.007974973057119123, 0.29752502694288674], P([5]) [0.609644372687435, 0.059014404500211164, 0.10875701633095322, 0.04084122281235642, 0.18174298366904426], P([4]) [0.43970886184315017, 0.33140569598935565, 0.1850696935069911, 0.021304334517765085, 0.022511414142737957], P([3, 6]) [1.0, 0.0, 1.0, 0.0, 1.0, 0.0, 0.0, 1.0, 0.0, 1.0], P([0, 2, 3, 4]) [0.0, 1.0, 1.0, 0.0, 1.0, 1.0, 0.0, 0.0, 0.0, 1.0, 1.0, 0.0, 1.0, 1.0, 0.0, 0.0, 0.0, 1.0, 1.0, 0.0, 1.0, 0.0, 0.0, 1.0, 1.0, 0.0, 0.0, 1.0, 0.0, 1.0, 1.0, 0.0, 1.0, 1.0, 0.0, 0.0, 1.0, 0.0, 0.0, 1.0], P([1, 5]) [0.0, 1.0, 0.0, 1.0, 1.0, 0.0, 0.0, 1.0, 1.0, 0.0], P([0, 1, 4]) [0.0, 1.0, 1.0, 0.0, 1.0, 0.0, 1.0, 0.0, 1.0, 0.0, 1.0, 0.0, 0.0, 1.0, 0.0, 1.0, 0.0, 1.0, 1.0, 0.0]]\n",
      "\n",
      "P([2] | [])\n",
      "\t[0.9217881112904189, 0.07821188870958118]\n",
      "\t[0.9217881112904189, 0.07821188870958118]\n",
      "<output>\n",
      "[\n",
      "{'Pcn0_lbound': 0.8390320476219654,'Pcn0_ubound': 0.8390320476219654,'Pcn1_lbound': 0.16096795237803463,'Pcn1_ubound': 0.16096795237803463,'Ptrue0_lbound': 0.8072,'Ptrue0_ubound': 0.98,'Ptrue1_lbound': 0.02,'Ptrue1_ubound': 0.19280000000000003,'Puq0_lbound': 0.8390320476219654,'Puq0_ubound': 0.8390320476219654,'Puq1_lbound': 0.16096795237803463,'Puq1_ubound': 0.16096795237803463,'num_points': 1.0,},\n",
      "{'Pcn0_lbound': 0.8348591463296742,'Pcn0_ubound': 0.8390391548027137,'Pcn1_lbound': 0.16096084519728623,'Pcn1_ubound': 0.16514085367032588,'Ptrue0_lbound': 0.8072,'Ptrue0_ubound': 0.98,'Ptrue1_lbound': 0.02,'Ptrue1_ubound': 0.19280000000000003,'Puq0_lbound': 0.8348663168270424,'Puq0_ubound': 0.8390320476219654,'Puq1_lbound': 0.16096795237803463,'Puq1_ubound': 0.16513368317295785,'num_points': 2.0,},\n",
      "{'Pcn0_lbound': 0.8348591463296742,'Pcn0_ubound': 0.967468372505318,'Pcn1_lbound': 0.03253162749468194,'Pcn1_ubound': 0.16514085367032588,'Ptrue0_lbound': 0.8072,'Ptrue0_ubound': 0.98,'Ptrue1_lbound': 0.02,'Ptrue1_ubound': 0.19280000000000003,'Puq0_lbound': 0.8348663168270424,'Puq0_ubound': 0.967468372505318,'Puq1_lbound': 0.0325316274946819,'Puq1_ubound': 0.16513368317295785,'num_points': 3.0,},\n",
      "{'Pcn0_lbound': 0.8348591463296742,'Pcn0_ubound': 0.967468372505318,'Pcn1_lbound': 0.03253162749468194,'Pcn1_ubound': 0.16514085367032588,'Ptrue0_lbound': 0.8072,'Ptrue0_ubound': 0.98,'Ptrue1_lbound': 0.02,'Ptrue1_ubound': 0.19280000000000003,'Puq0_lbound': 0.8348663168270424,'Puq0_ubound': 0.967468372505318,'Puq1_lbound': 0.0325316274946819,'Puq1_ubound': 0.16513368317295785,'num_points': 4.0,},\n",
      "{'Pcn0_lbound': 0.8348591463296742,'Pcn0_ubound': 0.967468372505318,'Pcn1_lbound': 0.03253162749468194,'Pcn1_ubound': 0.16514085367032588,'Ptrue0_lbound': 0.8072,'Ptrue0_ubound': 0.98,'Ptrue1_lbound': 0.02,'Ptrue1_ubound': 0.19280000000000003,'Puq0_lbound': 0.8348663168270424,'Puq0_ubound': 0.967468372505318,'Puq1_lbound': 0.0325316274946819,'Puq1_ubound': 0.16513368317295785,'num_points': 5.0,},\n",
      "]\n",
      "</output>\n",
      "\n"
     ]
    },
    {
     "data": {
      "text/plain": [
       "{'Pcn0_lbound': 0.8390320476219654,\n",
       " 'Pcn0_ubound': 0.8390320476219654,\n",
       " 'Pcn1_lbound': 0.16096795237803463,\n",
       " 'Pcn1_ubound': 0.16096795237803463,\n",
       " 'Ptrue0_lbound': 0.8072,\n",
       " 'Ptrue0_ubound': 0.98,\n",
       " 'Ptrue1_lbound': 0.02,\n",
       " 'Ptrue1_ubound': 0.19280000000000003,\n",
       " 'Puq0_lbound': 0.8390320476219654,\n",
       " 'Puq0_ubound': 0.8390320476219654,\n",
       " 'Puq1_lbound': 0.16096795237803463,\n",
       " 'Puq1_ubound': 0.16096795237803463,\n",
       " 'num_points': 1.0}"
      ]
     },
     "execution_count": 94,
     "metadata": {},
     "output_type": "execute_result"
    }
   ],
   "source": [
    "output = run(model=\"poly4_12181.uai\", numberPoints = 5)\n",
    "output[0]\n"
   ]
  },
  {
   "cell_type": "code",
   "execution_count": 95,
   "metadata": {},
   "outputs": [],
   "source": [
    "def run_experiments(f, args, fargs=None, verbose=False, lenght_dep_vars = None, non_evaluable=[]):\n",
    "\n",
    "\n",
    "    print(\"=========\")\n",
    "    print(args)\n",
    "    print(\"=========\")\n",
    "    \n",
    "    outkeys = [\"output\"]\n",
    " \n",
    "    result = None\n",
    "    log_file = f\"{config.log_folder}{strdate()}_{f.__name__}.txt\"\n",
    "\n",
    "    data = pd.DataFrame(list(itertools.product(*list(args.values()))), columns = args.keys())\n",
    "\n",
    "    fargs = fargs or {}\n",
    "    for k,v in fargs.items():\n",
    "        data[k]=data.apply(v, axis=1)\n",
    "\n",
    "\n",
    "    non_evaluable = non_evaluable or []\n",
    "\n",
    "    lenght_dep_vars = lenght_dep_vars or [\"N\"]\n",
    "\n",
    "    def is_evaluable(args):\n",
    "        current = {k:v for (k,v) in args.items() if k not in lenght_dep_vars}\n",
    "        previous = [{k:v for (k,v) in a.items() if k not in lenght_dep_vars} for a in non_evaluable]\n",
    "\n",
    "        print(f\"current: {current}\")\n",
    "        print(f\"previous: {previous}\")\n",
    "\n",
    "\n",
    "        return not current in previous\n",
    "\n",
    "    def single_experiment(argsv):\n",
    "        if is_evaluable(argsv):\n",
    "            outvals = f(**argsv)\n",
    "            if outvals == [{}]:\n",
    "                non_evaluable.append(argsv)\n",
    "                print(f\"setting as not evaluable: {argsv}\")\n",
    "        else:\n",
    "            outvals=[{}]\n",
    "        return outvals\n",
    "\n",
    "\n",
    "    for argsv in data.to_dict(orient=\"row\"):\n",
    "\n",
    "        strio = io.StringIO()\n",
    "        print(strdate())\n",
    "        with open(log_file, 'a+') as logger:\n",
    "            if verbose == False:\n",
    "                with redirect_stdout(strio):\n",
    "                    print(strdate())\n",
    "                    outvals = single_experiment(argsv)\n",
    "            else:\n",
    "                outvals = single_experiment(argsv)\n",
    "\n",
    "            logger.write(strio.getvalue())\n",
    "\n",
    "\n",
    "        r = pd.DataFrame([{**argsv, ** v} for v in outvals])\n",
    "        if result is None:\n",
    "            result= r\n",
    "        else:\n",
    "            result = pd.concat([result, r], ignore_index=True)\n",
    "        print(\"\\n\\n\")\n",
    "\n",
    "    return result\n",
    "\n",
    "def get_args(**kwargs): return kwargs"
   ]
  },
  {
   "cell_type": "code",
   "execution_count": 96,
   "metadata": {},
   "outputs": [
    {
     "name": "stdout",
     "output_type": "stream",
     "text": [
      "=========\n",
      "{'model': ['poly4_12181.uai', 'tree6_47048.uai'], 'numberPoints': [2]}\n",
      "=========\n",
      "2020-10-05-18-09-59\n"
     ]
    },
    {
     "name": "stderr",
     "output_type": "stream",
     "text": [
      "/Users/rcabanas/venv/causal_credal/lib/python3.6/site-packages/pandas/core/frame.py:1487: FutureWarning: Using short name for 'orient' is deprecated. Only the options: ('dict', list, 'series', 'split', 'records', 'index') will be used in a future version. Use one of the above to silence this warning.\n",
      "  FutureWarning,\n"
     ]
    },
    {
     "name": "stdout",
     "output_type": "stream",
     "text": [
      "\n",
      "\n",
      "\n",
      "2020-10-05-18-10-08\n",
      "\n",
      "\n",
      "\n"
     ]
    }
   ],
   "source": [
    "# example\n",
    "args = dict(model=[\"poly4_12181.uai\", \"tree6_47048.uai\"], numberPoints = [2])\n",
    "out = run_experiments(run, args)"
   ]
  },
  {
   "cell_type": "code",
   "execution_count": 110,
   "metadata": {},
   "outputs": [
    {
     "name": "stdout",
     "output_type": "stream",
     "text": [
      "=========\n",
      "{'model': ['tree4_48362.uai', 'tree4_54366.uai'], 'numberPoints': [2]}\n",
      "=========\n",
      "2020-10-05-18-19-53\n",
      "\n",
      "\n",
      "\n",
      "2020-10-05-18-20-00\n",
      "\n",
      "\n",
      "\n"
     ]
    }
   ],
   "source": [
    "label = \"tree\"\n",
    "files = [f for f in os.listdir(config.model_folder) if f.startswith(label)]\n",
    "args = dict(model=files, numberPoints = [10])\n",
    "results = run_experiments(run, args)\n",
    "\n",
    "res_file = f\"{config.res_folder}{strdate()}_{label}.csv\"\n",
    "results.to_csv(res_file)"
   ]
  },
  {
   "cell_type": "code",
   "execution_count": 111,
   "metadata": {},
   "outputs": [
    {
     "name": "stdout",
     "output_type": "stream",
     "text": [
      "=========\n",
      "{'model': ['poly4_52551.uai', 'poly4_52961.uai', 'poly4_73359.uai', 'poly6_11613.uai', 'poly4_58657.uai', 'poly4_77924.uai', 'poly4_33912.uai', 'poly4_82302.uai', 'poly4_58959.uai', 'poly6_39497.uai', 'poly6_28808.uai', 'poly6_87150.uai', 'poly6_59370.uai', 'poly6_98512.uai', 'poly6_63710.uai', 'poly6_56998.uai', 'poly4_70842.uai', 'poly6_42643.uai', 'poly4_12181.uai', 'poly6_46754.uai'], 'numberPoints': [10]}\n",
      "=========\n",
      "2020-10-05-18-22-59\n"
     ]
    },
    {
     "ename": "TypeError",
     "evalue": "unhashable type: 'list'",
     "output_type": "error",
     "traceback": [
      "\u001b[0;31m---------------------------------------------------------------------------\u001b[0m",
      "\u001b[0;31mKeyboardInterrupt\u001b[0m                         Traceback (most recent call last)",
      "\u001b[0;32m<ipython-input-93-f6fc7fab9704>\u001b[0m in \u001b[0;36mrun\u001b[0;34m(model, numberPoints, numberEMiter, samples)\u001b[0m\n\u001b[1;32m     41\u001b[0m     \u001b[0;32mtry\u001b[0m\u001b[0;34m:\u001b[0m\u001b[0;34m\u001b[0m\u001b[0;34m\u001b[0m\u001b[0m\n\u001b[0;32m---> 42\u001b[0;31m         \u001b[0mlines\u001b[0m \u001b[0;34m=\u001b[0m \u001b[0mrun_java\u001b[0m\u001b[0;34m(\u001b[0m\u001b[0mconfig\u001b[0m\u001b[0;34m.\u001b[0m\u001b[0mjarfile\u001b[0m\u001b[0;34m,\u001b[0m \u001b[0mjavafile\u001b[0m\u001b[0;34m)\u001b[0m\u001b[0;34m.\u001b[0m\u001b[0mstdout\u001b[0m\u001b[0;34m.\u001b[0m\u001b[0msplitlines\u001b[0m\u001b[0;34m(\u001b[0m\u001b[0;34m)\u001b[0m\u001b[0;34m\u001b[0m\u001b[0;34m\u001b[0m\u001b[0m\n\u001b[0m\u001b[1;32m     43\u001b[0m         \u001b[0mj\u001b[0m\u001b[0;34m,\u001b[0m\u001b[0mk\u001b[0m \u001b[0;34m=\u001b[0m \u001b[0;34m[\u001b[0m\u001b[0mi\u001b[0m \u001b[0;32mfor\u001b[0m \u001b[0mi\u001b[0m \u001b[0;32min\u001b[0m \u001b[0mrange\u001b[0m\u001b[0;34m(\u001b[0m\u001b[0mlen\u001b[0m\u001b[0;34m(\u001b[0m\u001b[0mlines\u001b[0m\u001b[0;34m)\u001b[0m\u001b[0;34m)\u001b[0m \u001b[0;32mif\u001b[0m \u001b[0mlines\u001b[0m\u001b[0;34m[\u001b[0m\u001b[0mi\u001b[0m\u001b[0;34m]\u001b[0m \u001b[0;32min\u001b[0m \u001b[0;34m[\u001b[0m\u001b[0;34m\"<output>\"\u001b[0m\u001b[0;34m,\u001b[0m \u001b[0;34m\"</output>\"\u001b[0m\u001b[0;34m]\u001b[0m\u001b[0;34m]\u001b[0m\u001b[0;34m\u001b[0m\u001b[0;34m\u001b[0m\u001b[0m\n",
      "\u001b[0;32m~/venv/causal_credal/lib/python3.6/site-packages/timeout_decorator/timeout_decorator.py\u001b[0m in \u001b[0;36mnew_function\u001b[0;34m(*args, **kwargs)\u001b[0m\n\u001b[1;32m     80\u001b[0m                 \u001b[0;32mtry\u001b[0m\u001b[0;34m:\u001b[0m\u001b[0;34m\u001b[0m\u001b[0;34m\u001b[0m\u001b[0m\n\u001b[0;32m---> 81\u001b[0;31m                     \u001b[0;32mreturn\u001b[0m \u001b[0mfunction\u001b[0m\u001b[0;34m(\u001b[0m\u001b[0;34m*\u001b[0m\u001b[0margs\u001b[0m\u001b[0;34m,\u001b[0m \u001b[0;34m**\u001b[0m\u001b[0mkwargs\u001b[0m\u001b[0;34m)\u001b[0m\u001b[0;34m\u001b[0m\u001b[0;34m\u001b[0m\u001b[0m\n\u001b[0m\u001b[1;32m     82\u001b[0m                 \u001b[0;32mfinally\u001b[0m\u001b[0;34m:\u001b[0m\u001b[0;34m\u001b[0m\u001b[0;34m\u001b[0m\u001b[0m\n",
      "\u001b[0;32m<ipython-input-93-f6fc7fab9704>\u001b[0m in \u001b[0;36mrun_java\u001b[0;34m(jarfile, javafile)\u001b[0m\n\u001b[1;32m     30\u001b[0m     \u001b[0mprint\u001b[0m\u001b[0;34m(\u001b[0m\u001b[0mcmd\u001b[0m\u001b[0;34m)\u001b[0m\u001b[0;34m\u001b[0m\u001b[0;34m\u001b[0m\u001b[0m\n\u001b[0;32m---> 31\u001b[0;31m     \u001b[0mresult\u001b[0m \u001b[0;34m=\u001b[0m \u001b[0msubprocess\u001b[0m\u001b[0;34m.\u001b[0m\u001b[0mrun\u001b[0m\u001b[0;34m(\u001b[0m\u001b[0mcmd\u001b[0m\u001b[0;34m,\u001b[0m \u001b[0muniversal_newlines\u001b[0m \u001b[0;34m=\u001b[0m \u001b[0;32mTrue\u001b[0m\u001b[0;34m,\u001b[0m \u001b[0mshell\u001b[0m\u001b[0;34m=\u001b[0m\u001b[0;32mTrue\u001b[0m\u001b[0;34m,\u001b[0m\u001b[0mstdout\u001b[0m \u001b[0;34m=\u001b[0m \u001b[0msubprocess\u001b[0m\u001b[0;34m.\u001b[0m\u001b[0mPIPE\u001b[0m\u001b[0;34m)\u001b[0m\u001b[0;34m\u001b[0m\u001b[0;34m\u001b[0m\u001b[0m\n\u001b[0m\u001b[1;32m     32\u001b[0m     \u001b[0mprint\u001b[0m\u001b[0;34m(\u001b[0m\u001b[0mresult\u001b[0m\u001b[0;34m.\u001b[0m\u001b[0mstdout\u001b[0m\u001b[0;34m)\u001b[0m\u001b[0;34m\u001b[0m\u001b[0;34m\u001b[0m\u001b[0m\n",
      "\u001b[0;32m/Library/Frameworks/Python.framework/Versions/3.6/lib/python3.6/subprocess.py\u001b[0m in \u001b[0;36mrun\u001b[0;34m(input, timeout, check, *popenargs, **kwargs)\u001b[0m\n\u001b[1;32m    424\u001b[0m         \u001b[0;32mtry\u001b[0m\u001b[0;34m:\u001b[0m\u001b[0;34m\u001b[0m\u001b[0;34m\u001b[0m\u001b[0m\n\u001b[0;32m--> 425\u001b[0;31m             \u001b[0mstdout\u001b[0m\u001b[0;34m,\u001b[0m \u001b[0mstderr\u001b[0m \u001b[0;34m=\u001b[0m \u001b[0mprocess\u001b[0m\u001b[0;34m.\u001b[0m\u001b[0mcommunicate\u001b[0m\u001b[0;34m(\u001b[0m\u001b[0minput\u001b[0m\u001b[0;34m,\u001b[0m \u001b[0mtimeout\u001b[0m\u001b[0;34m=\u001b[0m\u001b[0mtimeout\u001b[0m\u001b[0;34m)\u001b[0m\u001b[0;34m\u001b[0m\u001b[0;34m\u001b[0m\u001b[0m\n\u001b[0m\u001b[1;32m    426\u001b[0m         \u001b[0;32mexcept\u001b[0m \u001b[0mTimeoutExpired\u001b[0m\u001b[0;34m:\u001b[0m\u001b[0;34m\u001b[0m\u001b[0;34m\u001b[0m\u001b[0m\n",
      "\u001b[0;32m/Library/Frameworks/Python.framework/Versions/3.6/lib/python3.6/subprocess.py\u001b[0m in \u001b[0;36mcommunicate\u001b[0;34m(self, input, timeout)\u001b[0m\n\u001b[1;32m    849\u001b[0m             \u001b[0;32melif\u001b[0m \u001b[0mself\u001b[0m\u001b[0;34m.\u001b[0m\u001b[0mstdout\u001b[0m\u001b[0;34m:\u001b[0m\u001b[0;34m\u001b[0m\u001b[0;34m\u001b[0m\u001b[0m\n\u001b[0;32m--> 850\u001b[0;31m                 \u001b[0mstdout\u001b[0m \u001b[0;34m=\u001b[0m \u001b[0mself\u001b[0m\u001b[0;34m.\u001b[0m\u001b[0mstdout\u001b[0m\u001b[0;34m.\u001b[0m\u001b[0mread\u001b[0m\u001b[0;34m(\u001b[0m\u001b[0;34m)\u001b[0m\u001b[0;34m\u001b[0m\u001b[0;34m\u001b[0m\u001b[0m\n\u001b[0m\u001b[1;32m    851\u001b[0m                 \u001b[0mself\u001b[0m\u001b[0;34m.\u001b[0m\u001b[0mstdout\u001b[0m\u001b[0;34m.\u001b[0m\u001b[0mclose\u001b[0m\u001b[0;34m(\u001b[0m\u001b[0;34m)\u001b[0m\u001b[0;34m\u001b[0m\u001b[0;34m\u001b[0m\u001b[0m\n",
      "\u001b[0;31mKeyboardInterrupt\u001b[0m: ",
      "\nDuring handling of the above exception, another exception occurred:\n",
      "\u001b[0;31mTypeError\u001b[0m                                 Traceback (most recent call last)",
      "\u001b[0;32m<ipython-input-111-c35a2e7357d9>\u001b[0m in \u001b[0;36m<module>\u001b[0;34m\u001b[0m\n\u001b[1;32m      2\u001b[0m \u001b[0mfiles\u001b[0m \u001b[0;34m=\u001b[0m \u001b[0;34m[\u001b[0m\u001b[0mf\u001b[0m \u001b[0;32mfor\u001b[0m \u001b[0mf\u001b[0m \u001b[0;32min\u001b[0m \u001b[0mos\u001b[0m\u001b[0;34m.\u001b[0m\u001b[0mlistdir\u001b[0m\u001b[0;34m(\u001b[0m\u001b[0mconfig\u001b[0m\u001b[0;34m.\u001b[0m\u001b[0mmodel_folder\u001b[0m\u001b[0;34m)\u001b[0m \u001b[0;32mif\u001b[0m \u001b[0mf\u001b[0m\u001b[0;34m.\u001b[0m\u001b[0mstartswith\u001b[0m\u001b[0;34m(\u001b[0m\u001b[0mlabel\u001b[0m\u001b[0;34m)\u001b[0m\u001b[0;34m]\u001b[0m\u001b[0;34m\u001b[0m\u001b[0;34m\u001b[0m\u001b[0m\n\u001b[1;32m      3\u001b[0m \u001b[0margs\u001b[0m \u001b[0;34m=\u001b[0m \u001b[0mdict\u001b[0m\u001b[0;34m(\u001b[0m\u001b[0mmodel\u001b[0m\u001b[0;34m=\u001b[0m\u001b[0mfiles\u001b[0m\u001b[0;34m,\u001b[0m \u001b[0mnumberPoints\u001b[0m \u001b[0;34m=\u001b[0m \u001b[0;34m[\u001b[0m\u001b[0;36m10\u001b[0m\u001b[0;34m]\u001b[0m\u001b[0;34m)\u001b[0m\u001b[0;34m\u001b[0m\u001b[0;34m\u001b[0m\u001b[0m\n\u001b[0;32m----> 4\u001b[0;31m \u001b[0mresults\u001b[0m \u001b[0;34m=\u001b[0m \u001b[0mrun_experiments\u001b[0m\u001b[0;34m(\u001b[0m\u001b[0mrun\u001b[0m\u001b[0;34m,\u001b[0m \u001b[0margs\u001b[0m\u001b[0;34m)\u001b[0m\u001b[0;34m\u001b[0m\u001b[0;34m\u001b[0m\u001b[0m\n\u001b[0m\u001b[1;32m      5\u001b[0m \u001b[0;34m\u001b[0m\u001b[0m\n\u001b[1;32m      6\u001b[0m \u001b[0mres_file\u001b[0m \u001b[0;34m=\u001b[0m \u001b[0;34mf\"{config.res_folder}{strdate()}_{label}.csv\"\u001b[0m\u001b[0;34m\u001b[0m\u001b[0;34m\u001b[0m\u001b[0m\n",
      "\u001b[0;32m<ipython-input-95-8c965e5b1853>\u001b[0m in \u001b[0;36mrun_experiments\u001b[0;34m(f, args, fargs, verbose, lenght_dep_vars, non_evaluable)\u001b[0m\n\u001b[1;32m     51\u001b[0m                 \u001b[0;32mwith\u001b[0m \u001b[0mredirect_stdout\u001b[0m\u001b[0;34m(\u001b[0m\u001b[0mstrio\u001b[0m\u001b[0;34m)\u001b[0m\u001b[0;34m:\u001b[0m\u001b[0;34m\u001b[0m\u001b[0;34m\u001b[0m\u001b[0m\n\u001b[1;32m     52\u001b[0m                     \u001b[0mprint\u001b[0m\u001b[0;34m(\u001b[0m\u001b[0mstrdate\u001b[0m\u001b[0;34m(\u001b[0m\u001b[0;34m)\u001b[0m\u001b[0;34m)\u001b[0m\u001b[0;34m\u001b[0m\u001b[0;34m\u001b[0m\u001b[0m\n\u001b[0;32m---> 53\u001b[0;31m                     \u001b[0moutvals\u001b[0m \u001b[0;34m=\u001b[0m \u001b[0msingle_experiment\u001b[0m\u001b[0;34m(\u001b[0m\u001b[0margsv\u001b[0m\u001b[0;34m)\u001b[0m\u001b[0;34m\u001b[0m\u001b[0;34m\u001b[0m\u001b[0m\n\u001b[0m\u001b[1;32m     54\u001b[0m             \u001b[0;32melse\u001b[0m\u001b[0;34m:\u001b[0m\u001b[0;34m\u001b[0m\u001b[0;34m\u001b[0m\u001b[0m\n\u001b[1;32m     55\u001b[0m                 \u001b[0moutvals\u001b[0m \u001b[0;34m=\u001b[0m \u001b[0msingle_experiment\u001b[0m\u001b[0;34m(\u001b[0m\u001b[0margsv\u001b[0m\u001b[0;34m)\u001b[0m\u001b[0;34m\u001b[0m\u001b[0;34m\u001b[0m\u001b[0m\n",
      "\u001b[0;32m<ipython-input-95-8c965e5b1853>\u001b[0m in \u001b[0;36msingle_experiment\u001b[0;34m(argsv)\u001b[0m\n\u001b[1;32m     34\u001b[0m     \u001b[0;32mdef\u001b[0m \u001b[0msingle_experiment\u001b[0m\u001b[0;34m(\u001b[0m\u001b[0margsv\u001b[0m\u001b[0;34m)\u001b[0m\u001b[0;34m:\u001b[0m\u001b[0;34m\u001b[0m\u001b[0;34m\u001b[0m\u001b[0m\n\u001b[1;32m     35\u001b[0m         \u001b[0;32mif\u001b[0m \u001b[0mis_evaluable\u001b[0m\u001b[0;34m(\u001b[0m\u001b[0margsv\u001b[0m\u001b[0;34m)\u001b[0m\u001b[0;34m:\u001b[0m\u001b[0;34m\u001b[0m\u001b[0;34m\u001b[0m\u001b[0m\n\u001b[0;32m---> 36\u001b[0;31m             \u001b[0moutvals\u001b[0m \u001b[0;34m=\u001b[0m \u001b[0mf\u001b[0m\u001b[0;34m(\u001b[0m\u001b[0;34m**\u001b[0m\u001b[0margsv\u001b[0m\u001b[0;34m)\u001b[0m\u001b[0;34m\u001b[0m\u001b[0;34m\u001b[0m\u001b[0m\n\u001b[0m\u001b[1;32m     37\u001b[0m             \u001b[0;32mif\u001b[0m \u001b[0moutvals\u001b[0m \u001b[0;34m==\u001b[0m \u001b[0;34m[\u001b[0m\u001b[0;34m{\u001b[0m\u001b[0;34m}\u001b[0m\u001b[0;34m]\u001b[0m\u001b[0;34m:\u001b[0m\u001b[0;34m\u001b[0m\u001b[0;34m\u001b[0m\u001b[0m\n\u001b[1;32m     38\u001b[0m                 \u001b[0mnon_evaluable\u001b[0m\u001b[0;34m.\u001b[0m\u001b[0mappend\u001b[0m\u001b[0;34m(\u001b[0m\u001b[0margsv\u001b[0m\u001b[0;34m)\u001b[0m\u001b[0;34m\u001b[0m\u001b[0;34m\u001b[0m\u001b[0m\n",
      "\u001b[0;32m<ipython-input-93-f6fc7fab9704>\u001b[0m in \u001b[0;36mrun\u001b[0;34m(model, numberPoints, numberEMiter, samples)\u001b[0m\n\u001b[1;32m     44\u001b[0m         \u001b[0moutput\u001b[0m \u001b[0;34m=\u001b[0m \u001b[0meval\u001b[0m\u001b[0;34m(\u001b[0m\u001b[0;34m\"\"\u001b[0m\u001b[0;34m.\u001b[0m\u001b[0mjoin\u001b[0m\u001b[0;34m(\u001b[0m\u001b[0;34m[\u001b[0m\u001b[0mlines\u001b[0m\u001b[0;34m[\u001b[0m\u001b[0mi\u001b[0m\u001b[0;34m]\u001b[0m \u001b[0;32mfor\u001b[0m \u001b[0mi\u001b[0m \u001b[0;32min\u001b[0m \u001b[0mlist\u001b[0m\u001b[0;34m(\u001b[0m\u001b[0mrange\u001b[0m\u001b[0;34m(\u001b[0m\u001b[0mj\u001b[0m\u001b[0;34m+\u001b[0m\u001b[0;36m1\u001b[0m\u001b[0;34m,\u001b[0m \u001b[0mk\u001b[0m\u001b[0;34m)\u001b[0m\u001b[0;34m)\u001b[0m\u001b[0;34m]\u001b[0m\u001b[0;34m)\u001b[0m\u001b[0;34m)\u001b[0m\u001b[0;34m\u001b[0m\u001b[0;34m\u001b[0m\u001b[0m\n\u001b[1;32m     45\u001b[0m     \u001b[0;32mexcept\u001b[0m\u001b[0;34m:\u001b[0m\u001b[0;34m\u001b[0m\u001b[0;34m\u001b[0m\u001b[0m\n\u001b[0;32m---> 46\u001b[0;31m         \u001b[0moutput\u001b[0m \u001b[0;34m=\u001b[0m \u001b[0;34m{\u001b[0m\u001b[0;34m[\u001b[0m\u001b[0;34m]\u001b[0m\u001b[0;34m}\u001b[0m\u001b[0;34m\u001b[0m\u001b[0;34m\u001b[0m\u001b[0m\n\u001b[0m\u001b[1;32m     47\u001b[0m     \u001b[0;32mreturn\u001b[0m \u001b[0moutput\u001b[0m\u001b[0;34m\u001b[0m\u001b[0;34m\u001b[0m\u001b[0m\n",
      "\u001b[0;31mTypeError\u001b[0m: unhashable type: 'list'"
     ]
    }
   ],
   "source": [
    "label = \"poly\"\n",
    "files = [f for f in os.listdir(config.model_folder) if f.startswith(label)]\n",
    "args = dict(model=files, numberPoints = [10])\n",
    "results = run_experiments(run, args)\n",
    "\n",
    "res_file = f\"{config.res_folder}{strdate()}_{label}.csv\"\n",
    "results.to_csv(res_file)"
   ]
  }
 ],
 "metadata": {
  "kernelspec": {
   "display_name": "Python 3",
   "language": "python",
   "name": "python3"
  },
  "language_info": {
   "codemirror_mode": {
    "name": "ipython",
    "version": 3
   },
   "file_extension": ".py",
   "mimetype": "text/x-python",
   "name": "python",
   "nbconvert_exporter": "python",
   "pygments_lexer": "ipython3",
   "version": "3.6.8"
  }
 },
 "nbformat": 4,
 "nbformat_minor": 4
}
